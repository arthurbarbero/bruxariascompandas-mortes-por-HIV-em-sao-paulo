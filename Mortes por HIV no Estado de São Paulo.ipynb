{
 "cells": [
  {
   "cell_type": "markdown",
   "metadata": {},
   "source": [
    "# Trabalho de Estrutura e Análise de Dados utilizando Pandas e Matplotlib "
   ]
  },
  {
   "cell_type": "markdown",
   "metadata": {},
   "source": [
    "#### Faculdade Tecnológica de São José dos Campos - FATEC"
   ]
  },
  {
   "cell_type": "markdown",
   "metadata": {},
   "source": [
    "###### Análise e Desenvolvimento de Sistemas - Turma A - Arthur Barbero - José Vinicius Ferreira Santana"
   ]
  },
  {
   "cell_type": "markdown",
   "metadata": {},
   "source": [
    "###### Com o intuito de aprendizagem referente as ferramentas básicas da biblioteca Pandas, realizamos a pesquisa, análise e estruturação de dados públicos para demonstrarem a facilidade e a automatização de uma estrutura organizada e visual para a concientização ou até em tomadas de decisões."
   ]
  },
  {
   "cell_type": "markdown",
   "metadata": {},
   "source": [
    "Utilizamos como tema desta pesquisa, os casos de morte por HIV (human immunodeficiency virus) no Estado de São Paulo.\n",
    "\n",
    "O HIV surgiu a partir de um vírus chamado SIV, encontrado no sistema imunológico dos chimpanzés e do macaco-verde africano. Apesar de não deixar esses animais doentes, o SIV é um vírus altamente mutante, que teria dado origem ao HIV, o vírus da aids. O SIV presente no macaco-verde teria criado o HIV2, uma versão menos agressiva, que demora mais tempo para provocar a aids. Já os chimpanzés deram origem ao HIV1, a forma mais mortal do vírus. “É provável que a transmissão para o ser humano, tanto do HIV1 como do HIV2, aconteceu em tribos da África central que caçavam ou domesticavam chimpanzés e macacos-verdes”, diz o infectologista Jacyr Pasternak, do Hospital Beneficência Portuguesa, em São Paulo. Não há consenso sobre a data das primeiras transmissões. O mais provável, porém, é que tenham acontecido por volta de 1930. Nas décadas seguintes, a doença teria permanecido restrita a pequenos grupos e tribos da África central, na região ao sul do deserto do Saara. <https://super.abril.com.br/mundo-estranho/como-surgiu-a-aids/> Acesso em 10/11/2018.\n",
    "\n",
    "No Brasil, em 1980 registrou-se o primeiro caso de AIDS no Brasil, em São Paulo, também só classificado em 1982.\n"
   ]
  },
  {
   "cell_type": "markdown",
   "metadata": {},
   "source": [
    "###### Analisaremos com base no total de mortes por HIV, os 10 maiores índices e sua flutuação durante os anos de 2014, 2015 e 2016.\n",
    "\n",
    "Com base no site do DATASUS, um banco de dados com todas as informações referente a saúde do Brasil, na sessão de \"Informações de Saúde\", selecionamos a área de \"Estatísticas Vitais\" e o grupo de \"Mortalidade - 1996 a 2016, pela CID-10\". <http://www2.datasus.gov.br/DATASUS/index.php?area=0205&id=6937> Acesso em 10/11/2018.\n",
    "\n",
    "Selecionando a opção de \"Mortalidade Geral\" e o Estado de São Paulo, obtemos acesso a uma série de informações divididas por tópicos. Para esta análise utilizamos a configuração \"Linha por Município, Coluna por ano, conteúdo por ocorrência do óbito\", para então selecionarmos a causa, de acordo com o CID-10, 023 Doença por vírus da imunodeficiência humana (HIV).\n",
    "\n",
    "Após a leitura dos dados, realizamos o download dos anos e concatenamos as informações e formatamos no padrão .CSV (Comma-separeted values - Valores separados por virgulas) e estruturamos da seguinte maneira:\n"
   ]
  },
  {
   "cell_type": "code",
   "execution_count": 1,
   "metadata": {
    "scrolled": true
   },
   "outputs": [
    {
     "data": {
      "text/html": [
       "<div>\n",
       "<style scoped>\n",
       "    .dataframe tbody tr th:only-of-type {\n",
       "        vertical-align: middle;\n",
       "    }\n",
       "\n",
       "    .dataframe tbody tr th {\n",
       "        vertical-align: top;\n",
       "    }\n",
       "\n",
       "    .dataframe thead th {\n",
       "        text-align: right;\n",
       "    }\n",
       "</style>\n",
       "<table border=\"1\" class=\"dataframe\">\n",
       "  <thead>\n",
       "    <tr style=\"text-align: right;\">\n",
       "      <th></th>\n",
       "      <th>Causa</th>\n",
       "      <th>Município</th>\n",
       "      <th>2012</th>\n",
       "      <th>2013</th>\n",
       "      <th>2014</th>\n",
       "      <th>2015</th>\n",
       "      <th>2016</th>\n",
       "    </tr>\n",
       "  </thead>\n",
       "  <tbody>\n",
       "    <tr>\n",
       "      <th>266</th>\n",
       "      <td>Morte por HIV</td>\n",
       "      <td>São Paulo</td>\n",
       "      <td>907.0</td>\n",
       "      <td>891.0</td>\n",
       "      <td>870.0</td>\n",
       "      <td>836.0</td>\n",
       "      <td>797.0</td>\n",
       "    </tr>\n",
       "    <tr>\n",
       "      <th>233</th>\n",
       "      <td>Morte por HIV</td>\n",
       "      <td>Ribeirão Preto</td>\n",
       "      <td>95.0</td>\n",
       "      <td>77.0</td>\n",
       "      <td>73.0</td>\n",
       "      <td>74.0</td>\n",
       "      <td>59.0</td>\n",
       "    </tr>\n",
       "    <tr>\n",
       "      <th>57</th>\n",
       "      <td>Morte por HIV</td>\n",
       "      <td>Campinas</td>\n",
       "      <td>83.0</td>\n",
       "      <td>75.0</td>\n",
       "      <td>100.0</td>\n",
       "      <td>82.0</td>\n",
       "      <td>95.0</td>\n",
       "    </tr>\n",
       "    <tr>\n",
       "      <th>254</th>\n",
       "      <td>Morte por HIV</td>\n",
       "      <td>Santos</td>\n",
       "      <td>69.0</td>\n",
       "      <td>88.0</td>\n",
       "      <td>66.0</td>\n",
       "      <td>61.0</td>\n",
       "      <td>66.0</td>\n",
       "    </tr>\n",
       "    <tr>\n",
       "      <th>262</th>\n",
       "      <td>Morte por HIV</td>\n",
       "      <td>São José do Rio Preto</td>\n",
       "      <td>63.0</td>\n",
       "      <td>66.0</td>\n",
       "      <td>74.0</td>\n",
       "      <td>79.0</td>\n",
       "      <td>58.0</td>\n",
       "    </tr>\n",
       "    <tr>\n",
       "      <th>103</th>\n",
       "      <td>Morte por HIV</td>\n",
       "      <td>Guarulhos</td>\n",
       "      <td>63.0</td>\n",
       "      <td>49.0</td>\n",
       "      <td>68.0</td>\n",
       "      <td>56.0</td>\n",
       "      <td>40.0</td>\n",
       "    </tr>\n",
       "    <tr>\n",
       "      <th>279</th>\n",
       "      <td>Morte por HIV</td>\n",
       "      <td>Sorocaba</td>\n",
       "      <td>56.0</td>\n",
       "      <td>60.0</td>\n",
       "      <td>59.0</td>\n",
       "      <td>66.0</td>\n",
       "      <td>52.0</td>\n",
       "    </tr>\n",
       "    <tr>\n",
       "      <th>253</th>\n",
       "      <td>Morte por HIV</td>\n",
       "      <td>Santo André</td>\n",
       "      <td>52.0</td>\n",
       "      <td>56.0</td>\n",
       "      <td>36.0</td>\n",
       "      <td>45.0</td>\n",
       "      <td>44.0</td>\n",
       "    </tr>\n",
       "    <tr>\n",
       "      <th>31</th>\n",
       "      <td>Morte por HIV</td>\n",
       "      <td>Bauru</td>\n",
       "      <td>50.0</td>\n",
       "      <td>70.0</td>\n",
       "      <td>54.0</td>\n",
       "      <td>38.0</td>\n",
       "      <td>44.0</td>\n",
       "    </tr>\n",
       "    <tr>\n",
       "      <th>205</th>\n",
       "      <td>Morte por HIV</td>\n",
       "      <td>Piracicaba</td>\n",
       "      <td>48.0</td>\n",
       "      <td>32.0</td>\n",
       "      <td>29.0</td>\n",
       "      <td>38.0</td>\n",
       "      <td>35.0</td>\n",
       "    </tr>\n",
       "  </tbody>\n",
       "</table>\n",
       "</div>"
      ],
      "text/plain": [
       "             Causa              Município   2012   2013   2014   2015   2016\n",
       "266  Morte por HIV              São Paulo  907.0  891.0  870.0  836.0  797.0\n",
       "233  Morte por HIV         Ribeirão Preto   95.0   77.0   73.0   74.0   59.0\n",
       "57   Morte por HIV               Campinas   83.0   75.0  100.0   82.0   95.0\n",
       "254  Morte por HIV                 Santos   69.0   88.0   66.0   61.0   66.0\n",
       "262  Morte por HIV  São José do Rio Preto   63.0   66.0   74.0   79.0   58.0\n",
       "103  Morte por HIV              Guarulhos   63.0   49.0   68.0   56.0   40.0\n",
       "279  Morte por HIV               Sorocaba   56.0   60.0   59.0   66.0   52.0\n",
       "253  Morte por HIV            Santo André   52.0   56.0   36.0   45.0   44.0\n",
       "31   Morte por HIV                  Bauru   50.0   70.0   54.0   38.0   44.0\n",
       "205  Morte por HIV             Piracicaba   48.0   32.0   29.0   38.0   35.0"
      ]
     },
     "execution_count": 1,
     "metadata": {},
     "output_type": "execute_result"
    }
   ],
   "source": [
    "# Importamos as bibliotecas;\n",
    "import pandas as pd\n",
    "import seaborn as sb\n",
    "low_memory=False\n",
    "%matplotlib inline\n",
    "\n",
    "# Utilizamos a variável \"filename\" para conceber o arquivo e outra variável \"HIV\" \n",
    "# para armazenar o mesmo arquivo após leitura em formato CSV\n",
    "filename = 'Morte_por_HIV.csv'\n",
    "HIV = pd.read_csv(filename, encoding='latin-1')\n",
    "\n",
    "# Primeiramente organizamos os itens de forma decrecente com base nos anos de 2014 a 2016 e \n",
    "# selecionamos os 10 primeiros para apresentar seu conteúdo.\n",
    "HIV.sort_values(by= [\"2012\",\"2013\",\"2014\",\"2015\",\"2016\"],ascending=False).head(10)\n",
    "\n"
   ]
  },
  {
   "cell_type": "code",
   "execution_count": 2,
   "metadata": {},
   "outputs": [
    {
     "data": {
      "image/png": "[encoded data removed]",
      "text/plain": [
       "<Figure size 1440x720 with 1 Axes>"
      ]
     },
     "metadata": {
      "needs_background": "light"
     },
     "output_type": "display_data"
    }
   ],
   "source": [
    "# Com base nas mesmas informações, demonstramos os mesmos valores de maneira gráfica por barras horizontais.\n",
    "p = HIV.sort_values(by= [\"2012\",\"2013\",\"2014\",\"2015\",\"2016\"],ascending=False).head(10).plot(kind=\"barh\", grid=(True), xticks=(0,50,100,200,300,400,500,600,700,800,900), x=(\"Município\"),figsize=(20,10), fontsize=(16))\n",
    "p.set_xlabel(\"Mortes por HIV\", fontsize=(16));\n",
    "p.set_title(\"Mortes por HIV por municípios de São Paulo\", fontsize=(20));\n",
    "p.set_ylabel(\"Município\", fontsize=(16));"
   ]
  },
  {
   "cell_type": "markdown",
   "metadata": {},
   "source": [
    "Podemos observar que São Paulo é o município com maior índice de morte por HIV, seguido de Campinas e São José do Rio Preto. São José dos Campos aparece no gráfico como nono município com indices de mortes por HIV.\n",
    "\n",
    "Nossa análise acerca dos municípios do Estado de São Paulo demonstra maior índice de mortes por HIV no município de São Paulo devido ser a maior densidade populacional do Estado e também sua capital, possuindo uma estimativa de 12.176.866 habitantes, sendo Guarulhos o segundo maior município em densidade populacional, contendo uma estimativa de 1.365.899 de habitantes. \n",
    "\n"
   ]
  },
  {
   "cell_type": "code",
   "execution_count": 3,
   "metadata": {},
   "outputs": [
    {
     "data": {
      "image/png": "[encoded data removed]",
      "text/plain": [
       "<Figure size 360x360 with 1 Axes>"
      ]
     },
     "metadata": {
      "needs_background": "light"
     },
     "output_type": "display_data"
    }
   ],
   "source": [
    "p = HIV.sort_values(by= [\"2012\",\"2013\",\"2014\",\"2015\",\"2016\"],ascending=False).head(3).plot(kind=\"bar\", grid=(True), yticks=(0,50,100,200,300,400,500,600,700,800,900), x=(\"Município\"),figsize=(5,5), fontsize=(12))\n",
    "p.set_ylabel(\"Mortes por HIV\", fontsize=(10));\n",
    "p.set_title(\"Mortes por HIV no Município de São Paulo\", fontsize=(16));\n"
   ]
  },
  {
   "cell_type": "markdown",
   "metadata": {},
   "source": [
    "Analisando separadamente o município de maior indice em mortes por HIV, podemos observar que durante esses três anos houve uma diminuição dos casos, o que nos leva a perceber uma maior precaução contra a doença ou um avanço na efetividade do tratamento. "
   ]
  },
  {
   "cell_type": "markdown",
   "metadata": {},
   "source": [
    "O HIV ainda não possui uma cura, por isso devemos nos concientizar e utilizar os métodos contraceptivos mais efetivos para evitar doenças sexualmente transmissíveis e evitar todas as formas de contágio para que os índices continuem diminuindo constantemente."
   ]
  },
  {
   "cell_type": "code",
   "execution_count": 5,
   "metadata": {},
   "outputs": [
    {
     "data": {
      "text/html": [
       "<div>\n",
       "<style scoped>\n",
       "    .dataframe tbody tr th:only-of-type {\n",
       "        vertical-align: middle;\n",
       "    }\n",
       "\n",
       "    .dataframe tbody tr th {\n",
       "        vertical-align: top;\n",
       "    }\n",
       "\n",
       "    .dataframe thead th {\n",
       "        text-align: right;\n",
       "    }\n",
       "</style>\n",
       "<table border=\"1\" class=\"dataframe\">\n",
       "  <thead>\n",
       "    <tr style=\"text-align: right;\">\n",
       "      <th></th>\n",
       "      <th>Município</th>\n",
       "      <th>2014</th>\n",
       "      <th>2015</th>\n",
       "      <th>2016</th>\n",
       "    </tr>\n",
       "  </thead>\n",
       "  <tbody>\n",
       "    <tr>\n",
       "      <th>565</th>\n",
       "      <td>São Paulo</td>\n",
       "      <td>82566.0</td>\n",
       "      <td>84435.0</td>\n",
       "      <td>86908</td>\n",
       "    </tr>\n",
       "    <tr>\n",
       "      <th>108</th>\n",
       "      <td>Campinas</td>\n",
       "      <td>8701.0</td>\n",
       "      <td>8577.0</td>\n",
       "      <td>8973</td>\n",
       "    </tr>\n",
       "    <tr>\n",
       "      <th>214</th>\n",
       "      <td>Guarulhos</td>\n",
       "      <td>6269.0</td>\n",
       "      <td>6250.0</td>\n",
       "      <td>6582</td>\n",
       "    </tr>\n",
       "    <tr>\n",
       "      <th>490</th>\n",
       "      <td>Ribeirão Preto</td>\n",
       "      <td>5788.0</td>\n",
       "      <td>5898.0</td>\n",
       "      <td>6205</td>\n",
       "    </tr>\n",
       "    <tr>\n",
       "      <th>545</th>\n",
       "      <td>Santos</td>\n",
       "      <td>5733.0</td>\n",
       "      <td>5950.0</td>\n",
       "      <td>6188</td>\n",
       "    </tr>\n",
       "    <tr>\n",
       "      <th>537</th>\n",
       "      <td>Santo André</td>\n",
       "      <td>5393.0</td>\n",
       "      <td>5443.0</td>\n",
       "      <td>5734</td>\n",
       "    </tr>\n",
       "    <tr>\n",
       "      <th>584</th>\n",
       "      <td>Sorocaba</td>\n",
       "      <td>5161.0</td>\n",
       "      <td>5408.0</td>\n",
       "      <td>5521</td>\n",
       "    </tr>\n",
       "    <tr>\n",
       "      <th>559</th>\n",
       "      <td>São José do Rio Preto</td>\n",
       "      <td>5065.0</td>\n",
       "      <td>5436.0</td>\n",
       "      <td>5687</td>\n",
       "    </tr>\n",
       "    <tr>\n",
       "      <th>560</th>\n",
       "      <td>São José dos Campos</td>\n",
       "      <td>3969.0</td>\n",
       "      <td>4275.0</td>\n",
       "      <td>4451</td>\n",
       "    </tr>\n",
       "    <tr>\n",
       "      <th>295</th>\n",
       "      <td>Jundiaí</td>\n",
       "      <td>3727.0</td>\n",
       "      <td>3627.0</td>\n",
       "      <td>3675</td>\n",
       "    </tr>\n",
       "  </tbody>\n",
       "</table>\n",
       "</div>"
      ],
      "text/plain": [
       "                 Município     2014     2015   2016\n",
       "565              São Paulo  82566.0  84435.0  86908\n",
       "108               Campinas   8701.0   8577.0   8973\n",
       "214              Guarulhos   6269.0   6250.0   6582\n",
       "490         Ribeirão Preto   5788.0   5898.0   6205\n",
       "545                 Santos   5733.0   5950.0   6188\n",
       "537            Santo André   5393.0   5443.0   5734\n",
       "584               Sorocaba   5161.0   5408.0   5521\n",
       "559  São José do Rio Preto   5065.0   5436.0   5687\n",
       "560    São José dos Campos   3969.0   4275.0   4451\n",
       "295                Jundiaí   3727.0   3627.0   3675"
      ]
     },
     "execution_count": 5,
     "metadata": {},
     "output_type": "execute_result"
    }
   ],
   "source": [
    "# Com base no total de mortes, relacionaremos a porcentagem de mortes por HIV no maior índice encontrado no gráfico anterior. \n",
    "total = \"Total de mortes em SP.csv\"\n",
    "Mortes = pd.read_csv(total, encoding=\"latin-1\")\n",
    "Mortes.sort_values(by= [\"2014\",\"2015\",\"2016\"],ascending=False).head(10)"
   ]
  },
  {
   "cell_type": "markdown",
   "metadata": {},
   "source": [
    "Com base no total de mortes gerais do Múnicipio de São Paulo, as mortes por HIV representam 9,86% do total de mortes em São Paulo."
   ]
  },
  {
   "cell_type": "markdown",
   "metadata": {},
   "source": [
    "### Conclusão\n",
    "\n",
    "Obtivemos sucesso na estruturação dos dados que facilitaram a análise do projeto, porém, também obtivemos dificuldades nas informações, o DATASUS exporta um arquivo em .CSV porém ao edita-lo é possível verificar que as informações não estão formatados no padrão .CSV, o mesmo site governamental não dispõem da mesma informação em vários anos, tendo assim que exporta-lo varias vezes em periodos diferentes para finalmente compila-los em um arquivo só no formato .CSV."
   ]
  }
 ],
 "metadata": {
  "kernelspec": {
   "display_name": "Python 3",
   "language": "python",
   "name": "python3"
  },
  "language_info": {
   "codemirror_mode": {
    "name": "ipython",
    "version": 3
   },
   "file_extension": ".py",
   "mimetype": "text/x-python",
   "name": "python",
   "nbconvert_exporter": "python",
   "pygments_lexer": "ipython3",
   "version": "3.6.6"
  }
 },
 "nbformat": 4,
 "nbformat_minor": 2
}
